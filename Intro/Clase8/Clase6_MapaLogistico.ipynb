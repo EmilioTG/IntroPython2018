{
 "cells": [
  {
   "cell_type": "markdown",
   "metadata": {},
   "source": [
    "# ¿ Cómo crece una población? \n",
    "> ___Mapa logístico___.\n",
    "La ecuación logística (curva de crecimiento logístico) es un modelo del crecimiento de la población publicado por Pierre Verhulst (1845, 1847). El modelo es continuo en el tiempo, pero una modificación de la ecuación continua a una ecuación de recurrencia discreta conocida como mapa logistico es muy usada.\n",
    "\n",
    "Referencia: \n",
    "- https://es.wikipedia.org/wiki/Aplicación_log%C3%ADstica\n",
    "- https://en.wikipedia.org/wiki/Logistic_map"
   ]
  },
  {
   "cell_type": "markdown",
   "metadata": {},
   "source": [
    "<img style=\"float: center;\" src=\"./poblacion.jpg\" width=\"450px\" height=\"250px\" />"
   ]
  },
  {
   "cell_type": "markdown",
   "metadata": {},
   "source": [
    "Entonces remplazando la ecuación lógistica, \n",
    "\n",
    "$$\\frac{dx}{dt} = r\\; x\\; (1- x)$$\n",
    "por la de recurrencia se tiene: \n",
    "$ x_{n+1} = r\\; x_{n}(1- x_{n})$. Donde $r$ es la razón de crecimiento máximo de la población y $x_{n}$ es la n-ésima iteración. Entonces, lo que tenemos que programar es la siguiente relación recursiva\n",
    "\n",
    "$$x_{n+1}^{(r)} = f_r(x_n^{(r)}) = rx_n^{(r)}(1-x_n^{(r)})$$"
   ]
  },
  {
   "cell_type": "markdown",
   "metadata": {},
   "source": [
    "** Solución a la ecuación diferencial ** \n",
    "\n",
    "La ecuación diferencial inicial tiene solución analítica, \n",
    "$$ x(t) = \\frac{1}{1+ (\\frac{1}{x_{0}}- 1) e^{-rt}}$$"
   ]
  },
  {
   "cell_type": "markdown",
   "metadata": {},
   "source": [
    "Numéricamente,¿cómo resolveríamos esta ecuación? "
   ]
  },
  {
   "cell_type": "code",
   "execution_count": null,
   "metadata": {},
   "outputs": [],
   "source": [
    "import numpy as np\n",
    "from scipy.integrate import odeint\n",
    "import matplotlib.pyplot as plt\n",
    "%matplotlib inline"
   ]
  },
  {
   "cell_type": "code",
   "execution_count": null,
   "metadata": {},
   "outputs": [],
   "source": [
    "import matplotlib as mpl\n",
    "label_size = 14\n",
    "mpl.rcParams['xtick.labelsize'] = label_size \n",
    "mpl.rcParams['ytick.labelsize'] = label_size "
   ]
  },
  {
   "cell_type": "markdown",
   "metadata": {},
   "source": [
    "$$\\frac{dx}{dt} = r\\; x\\; (1- x)$$"
   ]
  },
  {
   "cell_type": "code",
   "execution_count": null,
   "metadata": {},
   "outputs": [],
   "source": [
    "r = \n",
    "def poblacion(x, t):\n",
    "    return "
   ]
  },
  {
   "cell_type": "code",
   "execution_count": null,
   "metadata": {},
   "outputs": [],
   "source": [
    "x0 = 0.05\n",
    "tt = np.linspace(0, 10)\n",
    "\n",
    "\n",
    "\n",
    "plt.plot(tt, xx)\n",
    "plt.xlabel('$t$', fontsize = 18)\n",
    "plt.ylabel('$x$', fontsize = 18)\n",
    "plt.show()"
   ]
  },
  {
   "cell_type": "markdown",
   "metadata": {},
   "source": [
    "Podemos comparar con la solución analítica. En lo que sigue obtenemos varias curvas para $r = (-1, 1)$"
   ]
  },
  {
   "cell_type": "code",
   "execution_count": null,
   "metadata": {},
   "outputs": [],
   "source": [
    "def logi_sol(t, x0, r):\n",
    "    return 1/(1 + (1/x0 - 1) * np.exp(-r * t))"
   ]
  },
  {
   "cell_type": "code",
   "execution_count": null,
   "metadata": {},
   "outputs": [],
   "source": [
    "t = np.linspace(0,10)\n",
    "for r in np.arange(-1, 1,.1):\n",
    "    plt.plot(t, logi_sol(t, 0.05, r))\n",
    "plt.xlabel('$t$', fontsize = 18)\n",
    "plt.ylabel('$x$', fontsize = 18)\n",
    "plt.show()"
   ]
  },
  {
   "cell_type": "markdown",
   "metadata": {},
   "source": [
    "Como podemos ver, la solución a está ecuación en el continuo nos puede ganantizar la extinción o bien un crecimiento descomunal, dependiendo del valor asignado a $r$. "
   ]
  },
  {
   "cell_type": "markdown",
   "metadata": {},
   "source": [
    "### Mapa logístico"
   ]
  },
  {
   "cell_type": "code",
   "execution_count": null,
   "metadata": {},
   "outputs": [],
   "source": []
  },
  {
   "cell_type": "code",
   "execution_count": null,
   "metadata": {},
   "outputs": [],
   "source": []
  },
  {
   "cell_type": "code",
   "execution_count": null,
   "metadata": {},
   "outputs": [],
   "source": [
    "# Para mil valores de r entre 2.5 y 4.0\n",
    "n = 1000\n",
    "r = np.linspace(.5, 4.0, n)"
   ]
  },
  {
   "cell_type": "code",
   "execution_count": null,
   "metadata": {},
   "outputs": [],
   "source": [
    "# Hacemos 1000 iteraciones y nos quedamos con las ultimas 100\n",
    "iterar = 1000\n",
    "ultimos = 100"
   ]
  },
  {
   "cell_type": "code",
   "execution_count": null,
   "metadata": {},
   "outputs": [],
   "source": [
    "# La misma condición inicial para todos los casos. \n",
    "x = 1e-5 * np.ones(n)"
   ]
  },
  {
   "cell_type": "code",
   "execution_count": null,
   "metadata": {},
   "outputs": [],
   "source": [
    "plt.figure(figsize=(7, 4.5))\n",
    "for i in range(iterar):\n",
    "    x = mapa_logistico(r, x)\n",
    "    if i >= (iterar - ultimos):\n",
    "        plt.plot(r, x, ',k', alpha=.2)\n",
    "plt.xlim(.4, 4)\n",
    "plt.ylim(-.1, 1.1)\n",
    "plt.title(\"Diagrama de bifurcación\")\n",
    "plt.xlabel('$r$', fontsize=18)\n",
    "plt.ylabel('$x$', fontsize=18)\n",
    "plt.show()"
   ]
  },
  {
   "cell_type": "code",
   "execution_count": null,
   "metadata": {},
   "outputs": [],
   "source": [
    "fig, (ax1, ax2) = plt.subplots(1, 2, sharex='col', sharey='row',figsize =(13,4.5))\n",
    "r = np.linspace(.5, 4.0, n)\n",
    "for i in range(iterar):\n",
    "    x = mapa_logistico(r, x)\n",
    "    if i >= (iterar - ultimos):\n",
    "        ax1.plot(r, x, '.k', alpha=1,  ms = .1)\n",
    "r = np.linspace(2.5, 4.0, n)\n",
    "for i in range(iterar):\n",
    "    x = mapa_logistico(r, x)\n",
    "    if i >= (iterar - ultimos):\n",
    "        ax2.plot(r, x, '.k', alpha=1, ms = .1)\n",
    "ax1.set_xlim(.4, 4)\n",
    "ax1.set_ylim(-.1, 1.1)\n",
    "ax2.set_xlim(2.5, 4)\n",
    "ax2.set_ylim(-.1, 1.1)\n",
    "ax1.set_ylabel('$x$', fontsize = 20)\n",
    "ax1.set_xlabel('$r$', fontsize = 20)\n",
    "ax2.set_xlabel('$r$', fontsize = 20)\n",
    "plt.show()"
   ]
  },
  {
   "cell_type": "code",
   "execution_count": null,
   "metadata": {},
   "outputs": [],
   "source": [
    "fig, (ax1, ax2) = plt.subplots(1, 2, sharex='col', sharey='row',figsize =(13,4.5))\n",
    "r = np.linspace(.5, 4.0, n)\n",
    "for i in range(iterar):\n",
    "    x = mapa_logistico(r, x)\n",
    "    if i >= (iterar - ultimos):\n",
    "        ax1.scatter(r, x,  s = .1, cmap= 'inferno', c = x, lw = 0)\n",
    "r = np.linspace(2.5, 4.0, n)\n",
    "for i in range(iterar):\n",
    "    x = mapa_logistico(r, x)\n",
    "    if i >= (iterar - ultimos):\n",
    "        ax2.scatter(r, x, s = .1, cmap = 'inferno', c = x, lw = 0)\n",
    "ax1.set_xlim(.4, 4)\n",
    "ax1.set_ylim(-.1, 1.1)\n",
    "ax2.set_xlim(2.5, 4)\n",
    "ax2.set_ylim(-.1, 1.1)\n",
    "ax1.set_ylabel('$x$', fontsize = 20)\n",
    "ax1.set_xlabel('$r$', fontsize = 20)\n",
    "ax2.set_xlabel('$r$', fontsize = 20)\n",
    "plt.show()"
   ]
  },
  {
   "cell_type": "markdown",
   "metadata": {},
   "source": [
    "Esta última opción ya no es tan buena, porque son demasiados puntos y el uso de memoria aumenta. "
   ]
  },
  {
   "cell_type": "markdown",
   "metadata": {},
   "source": [
    "## Big data, insane! "
   ]
  },
  {
   "cell_type": "markdown",
   "metadata": {},
   "source": [
    "### Gráficando el mapeo logístico de forma circular\n",
    "Se gráfica el `seno` y el `coseno`de un ángulo que va aumentando gradualmente, multiplicado por el valor de `x`, el cual también va cambiando con cada iteración. Vamos a necesitar millones de puntos. "
   ]
  },
  {
   "cell_type": "markdown",
   "metadata": {},
   "source": [
    "\\begin{align}\n",
    "X &= x \\,R \\cos(\\theta)\\\\\n",
    "Y &= x \\,R \\sin(\\theta)\n",
    "\\end{align}"
   ]
  },
  {
   "cell_type": "markdown",
   "metadata": {},
   "source": [
    "Vamos a considerar un ángulo inicial $\\theta_0 = 0 $, $R =1$ y un incremento $\\delta \\theta = 0.2$."
   ]
  },
  {
   "cell_type": "markdown",
   "metadata": {},
   "source": [
    "<img style=\"float: left; margin: 0px 0px 15px 0px;\" src=\"./circular_maps/map_dead_1.png\" width=\"150px\" height=\"50px\" />\n",
    "<img style=\"float: left; margin: 0px 0px 15px 0px;\" src=\"./circular_maps/map_alive_1.png\" width=\"150px\" height=\"50px\" />\n",
    "<img style=\"float: left; margin: 0px 0px 15px 0px;\" src=\"./circular_maps/map_alive2_1.png\" width=\"150px\" height=\"50px\" />\n",
    "<img style=\"float: left; margin: 0px 0px 15px 0px;\" src=\"./circular_maps/map_alive4_1.png\" width=\"150px\" height=\"50px\" />\n",
    "<img style=\"float: left; margin: 0px 0px 15px 0px;\" src=\"./circular_maps/map_alive_chaos1_1.png\" width=\"150px\" height=\"50px\" />"
   ]
  },
  {
   "cell_type": "markdown",
   "metadata": {},
   "source": [
    "<img style=\"float: left; margin: 0px 0px 15px 0px;\" src=\"./circular_maps/map_alive_chaos2_1.png\" width=\"150px\" height=\"50px\" />\n",
    "<img style=\"float: left; margin: 0px 0px 15px 0px;\" src=\"./circular_maps/map_alive_chaos3_1.png\" width=\"150px\" height=\"50px\" />\n",
    "<img style=\"float: left; margin: 0px 0px 15px 0px;\" src=\"./circular_maps/map_alive_stable_1.png\" width=\"150px\" height=\"50px\" />\n",
    "<img style=\"float: left; margin: 0px 0px 15px 0px;\" src=\"./circular_maps/map_alive_chaos4_1.png\" width=\"150px\" height=\"50px\" />\n",
    "<img style=\"float: left; margin: 0px 0px 15px 0px;\" src=\"./circular_maps/map_alive_chaos5_1.png\" width=\"150px\" height=\"50px\" />"
   ]
  },
  {
   "cell_type": "markdown",
   "metadata": {},
   "source": [
    "Los valores de $r$ utilizados para contruir las figuras de arriba son los siguientes** _(de izquierda a derecha e iniciando con el panel superior)_: **"
   ]
  },
  {
   "cell_type": "markdown",
   "metadata": {},
   "source": [
    "$$r = 0.9,\\, 2.5,\\, 3.2,\\, 3.46,\\,  3.57,\\,  3.59,\\, 3.64,\\, 3.83,\\, 3.9,\\, 3.99$$"
   ]
  },
  {
   "cell_type": "markdown",
   "metadata": {},
   "source": [
    "### A continuación se describe la construcción de las figuras anteriores. "
   ]
  },
  {
   "cell_type": "markdown",
   "metadata": {},
   "source": [
    "- https://github.com/bokeh/datashader"
   ]
  },
  {
   "cell_type": "markdown",
   "metadata": {},
   "source": [
    "`conda install -c bokeh datashader`"
   ]
  },
  {
   "cell_type": "code",
   "execution_count": null,
   "metadata": {},
   "outputs": [],
   "source": [
    "import pandas as pd\n",
    "import datashader as ds\n",
    "from datashader import transfer_functions as tf\n",
    "from datashader.colors import Greys9, inferno, viridis\n",
    "from datashader.utils import export_image\n",
    "from functools import partial\n",
    "background = \"black\""
   ]
  },
  {
   "cell_type": "code",
   "execution_count": null,
   "metadata": {},
   "outputs": [],
   "source": [
    "img_map = partial(export_image, export_path=\"circular_maps\", background=background)"
   ]
  },
  {
   "cell_type": "code",
   "execution_count": null,
   "metadata": {},
   "outputs": [],
   "source": [
    "def circular_map(r1, theta, dtheta, radius, iterar):\n",
    "    r = np.array([r1])\n",
    "    x = np.array([1e-5])\n",
    "    x_list, y_list = [], []\n",
    "    for i in range(iterar):\n",
    "        x = mapa_logistico(r, x)\n",
    "        X = x * radius * np.cos(theta)\n",
    "        Y = x * radius * np.sin(theta)\n",
    "        x_list.append(X[0])\n",
    "        y_list.append(Y[0])\n",
    "        theta = theta + dtheta\n",
    "    return x_list, y_list"
   ]
  },
  {
   "cell_type": "markdown",
   "metadata": {},
   "source": [
    "Los valores de $r$ los vamos a elegir en los puntos de transición en el diagrama de bifurcación. "
   ]
  },
  {
   "cell_type": "code",
   "execution_count": null,
   "metadata": {},
   "outputs": [],
   "source": [
    "x_list, y_list = circular_map(.9, 0, 0.2, 1, 3000000)\n",
    "d = {'r': x_list, 'x': y_list}\n",
    "df1 = pd.DataFrame(d)\n",
    "cvs1 = ds.Canvas(plot_width=300, plot_height=300, x_range=(-1,1), y_range=(-1,1))\n",
    "agg1 = cvs1.points(df1, 'r', 'x')\n",
    "img = tf.shade(agg1, cmap = inferno, how='eq_hist')\n",
    "img = tf.dynspread(img, threshold=1, max_px= 5)\n",
    "img_map(img,\"map_dead\")"
   ]
  },
  {
   "cell_type": "code",
   "execution_count": null,
   "metadata": {},
   "outputs": [],
   "source": [
    "img = tf.shade(agg1, cmap = viridis, how='eq_hist')\n",
    "img = tf.dynspread(img, threshold=1, max_px= 5)\n",
    "img_map(img,\"map_dead_1\")"
   ]
  },
  {
   "cell_type": "code",
   "execution_count": null,
   "metadata": {},
   "outputs": [],
   "source": [
    "x_list, y_list = circular_map(2.5, 0, 0.2, 1, 3000000)\n",
    "d = {'r': x_list, 'x': y_list}\n",
    "df1 = pd.DataFrame(d)\n",
    "cvs1 = ds.Canvas(plot_width=300, plot_height=300, x_range=(-1,1), y_range=(-1,1))\n",
    "agg1 = cvs1.points(df1, 'r', 'x')\n",
    "img = tf.shade(agg1, cmap = inferno, how='eq_hist')\n",
    "#img = tf.dynspread(img, threshold=1, max_px= 1)\n",
    "img_map(img,\"map_alive\")"
   ]
  },
  {
   "cell_type": "code",
   "execution_count": null,
   "metadata": {},
   "outputs": [],
   "source": [
    "img = tf.shade(agg1, cmap = viridis, how='eq_hist')\n",
    "#img = tf.dynspread(img, threshold=1, max_px= 1)\n",
    "img_map(img,\"map_alive_1\")"
   ]
  },
  {
   "cell_type": "code",
   "execution_count": null,
   "metadata": {},
   "outputs": [],
   "source": [
    "x_list, y_list = circular_map(3.2, 0, 0.2, 1, 3000000)\n",
    "d = {'r': x_list, 'x': y_list}\n",
    "df1 = pd.DataFrame(d)\n",
    "cvs1 = ds.Canvas(plot_width=300, plot_height=300, x_range=(-1,1), y_range=(-1,1))\n",
    "agg1 = cvs1.points(df1, 'r', 'x')\n",
    "img = tf.shade(agg1, cmap = inferno, how='eq_hist')\n",
    "img_map(img,\"map_alive2\")"
   ]
  },
  {
   "cell_type": "code",
   "execution_count": null,
   "metadata": {},
   "outputs": [],
   "source": [
    "img = tf.shade(agg1, cmap = viridis, how='eq_hist')\n",
    "img_map(img,\"map_alive2_1\")"
   ]
  },
  {
   "cell_type": "code",
   "execution_count": null,
   "metadata": {},
   "outputs": [],
   "source": [
    "x_list, y_list = circular_map(3.46, 0, 0.2, 1, 3000000)\n",
    "d = {'r': x_list, 'x': y_list}\n",
    "df1 = pd.DataFrame(d)\n",
    "cvs1 = ds.Canvas(plot_width=300, plot_height=300, x_range=(-1,1), y_range=(-1,1))\n",
    "agg1 = cvs1.points(df1, 'r', 'x')\n",
    "img = tf.shade(agg1, cmap = inferno, how='eq_hist')\n",
    "img_map(img,\"map_alive4\")"
   ]
  },
  {
   "cell_type": "code",
   "execution_count": null,
   "metadata": {},
   "outputs": [],
   "source": [
    "img = tf.shade(agg1, cmap = viridis, how='eq_hist')\n",
    "img_map(img,\"map_alive4_1\")"
   ]
  },
  {
   "cell_type": "code",
   "execution_count": null,
   "metadata": {},
   "outputs": [],
   "source": [
    "x_list, y_list = circular_map(3.57, 0, 0.2, 1, 3000000)\n",
    "d = {'r': x_list, 'x': y_list}\n",
    "df1 = pd.DataFrame(d)\n",
    "cvs1 = ds.Canvas(plot_width=300, plot_height=300, x_range=(-1,1), y_range=(-1,1))\n",
    "agg1 = cvs1.points(df1, 'r', 'x')\n",
    "img = tf.shade(agg1, cmap = inferno, how='eq_hist')\n",
    "img_map(img,\"map_alive_chaos1\")"
   ]
  },
  {
   "cell_type": "code",
   "execution_count": null,
   "metadata": {},
   "outputs": [],
   "source": [
    "img = tf.shade(agg1, cmap = viridis, how='eq_hist')\n",
    "img_map(img,\"map_alive_chaos1_1\")"
   ]
  },
  {
   "cell_type": "code",
   "execution_count": null,
   "metadata": {},
   "outputs": [],
   "source": [
    "x_list, y_list = circular_map(3.59, 0, 0.2, 1, 3000000)\n",
    "d = {'r': x_list, 'x': y_list}\n",
    "df1 = pd.DataFrame(d)\n",
    "cvs1 = ds.Canvas(plot_width=300, plot_height=300, x_range=(-1,1), y_range=(-1,1))\n",
    "agg1 = cvs1.points(df1, 'r', 'x')\n",
    "img = tf.shade(agg1, cmap = inferno, how='eq_hist')\n",
    "img_map(img,\"map_alive_chaos2\")"
   ]
  },
  {
   "cell_type": "code",
   "execution_count": null,
   "metadata": {},
   "outputs": [],
   "source": [
    "img = tf.shade(agg1, cmap = viridis, how='eq_hist')\n",
    "img_map(img,\"map_alive_chaos2_1\")"
   ]
  },
  {
   "cell_type": "code",
   "execution_count": null,
   "metadata": {},
   "outputs": [],
   "source": [
    "x_list, y_list = circular_map(3.64, 0, 0.2, 1, 3000000)\n",
    "d = {'r': x_list, 'x': y_list}\n",
    "df1 = pd.DataFrame(d)\n",
    "cvs1 = ds.Canvas(plot_width=300, plot_height=300, x_range=(-1,1), y_range=(-1,1))\n",
    "agg1 = cvs1.points(df1, 'r', 'x')\n",
    "img = tf.shade(agg1, cmap = inferno, how='eq_hist')\n",
    "img_map(img,\"map_alive_chaos3\")"
   ]
  },
  {
   "cell_type": "code",
   "execution_count": null,
   "metadata": {},
   "outputs": [],
   "source": [
    "img = tf.shade(agg1, cmap = viridis, how='eq_hist')\n",
    "img_map(img,\"map_alive_chaos3_1\")"
   ]
  },
  {
   "cell_type": "code",
   "execution_count": null,
   "metadata": {},
   "outputs": [],
   "source": [
    "x_list, y_list = circular_map(3.83, 0, 0.2, 1, 3000000)\n",
    "d = {'r': x_list, 'x': y_list}\n",
    "df1 = pd.DataFrame(d)\n",
    "cvs1 = ds.Canvas(plot_width=300, plot_height=300, x_range=(-1,1), y_range=(-1,1))\n",
    "agg1 = cvs1.points(df1, 'r', 'x')\n",
    "img = tf.shade(agg1, cmap = inferno, how='eq_hist')\n",
    "img_map(img,\"map_alive_stable\")"
   ]
  },
  {
   "cell_type": "code",
   "execution_count": null,
   "metadata": {},
   "outputs": [],
   "source": [
    "img = tf.shade(agg1, cmap = viridis, how='eq_hist')\n",
    "img_map(img,\"map_alive_stable_1\")"
   ]
  },
  {
   "cell_type": "code",
   "execution_count": null,
   "metadata": {},
   "outputs": [],
   "source": [
    "x_list, y_list = circular_map(3.9, 0, 0.2, 1, 3000000)\n",
    "d = {'r': x_list, 'x': y_list}\n",
    "df1 = pd.DataFrame(d)\n",
    "cvs1 = ds.Canvas(plot_width=300, plot_height=300, x_range=(-1.1,1.1), y_range=(-1.1,1.1))\n",
    "agg1 = cvs1.points(df1, 'r', 'x')\n",
    "img = tf.shade(agg1, cmap = inferno, how='eq_hist')\n",
    "img_map(img,\"map_alive_chaos4\")"
   ]
  },
  {
   "cell_type": "code",
   "execution_count": null,
   "metadata": {},
   "outputs": [],
   "source": [
    "img = tf.shade(agg1, cmap = viridis, how='eq_hist')\n",
    "img_map(img,\"map_alive_chaos4_1\")"
   ]
  },
  {
   "cell_type": "code",
   "execution_count": null,
   "metadata": {},
   "outputs": [],
   "source": [
    "x_list, y_list = circular_map(3.99, 0, 0.2, 1, 3000000)\n",
    "d = {'r': x_list, 'x': y_list}\n",
    "df1 = pd.DataFrame(d)\n",
    "cvs1 = ds.Canvas(plot_width=300, plot_height=300, x_range=(-1.1,1.1), y_range=(-1.1,1.1))\n",
    "agg1 = cvs1.points(df1, 'r', 'x')\n",
    "img = tf.shade(agg1, cmap = inferno, how='eq_hist')\n",
    "img_map(img,\"map_alive_chaos5\")"
   ]
  },
  {
   "cell_type": "code",
   "execution_count": null,
   "metadata": {},
   "outputs": [],
   "source": []
  },
  {
   "cell_type": "code",
   "execution_count": null,
   "metadata": {},
   "outputs": [],
   "source": [
    "img = tf.shade(agg1, cmap = viridis, how='eq_hist')\n",
    "img_map(img,\"map_alive_chaos5_1\")"
   ]
  },
  {
   "cell_type": "code",
   "execution_count": null,
   "metadata": {},
   "outputs": [],
   "source": [
    "x_list, y_list = circular_map(3.9, 0, 0.1, 1, 3000000)\n",
    "d = {'r': x_list, 'x': y_list}\n",
    "df1 = pd.DataFrame(d)\n",
    "cvs1 = ds.Canvas(plot_width=300, plot_height=300, x_range=(-1.1,1.1), y_range=(-1.1,1.1))\n",
    "agg1 = cvs1.points(df1, 'r', 'x')\n",
    "img = tf.shade(agg1, cmap = inferno, how='eq_hist')\n",
    "img_map(img,\"map_alive_chaos6\")"
   ]
  },
  {
   "cell_type": "code",
   "execution_count": null,
   "metadata": {},
   "outputs": [],
   "source": [
    "img = tf.shade(agg1, cmap = viridis, how='eq_hist')\n",
    "img_map(img,\"map_alive_chaos6_1\")"
   ]
  }
 ],
 "metadata": {
  "hide_input": false,
  "kernelspec": {
   "display_name": "Python 3",
   "language": "python",
   "name": "python3"
  },
  "language_info": {
   "codemirror_mode": {
    "name": "ipython",
    "version": 3
   },
   "file_extension": ".py",
   "mimetype": "text/x-python",
   "name": "python",
   "nbconvert_exporter": "python",
   "pygments_lexer": "ipython3",
   "version": "3.5.2"
  },
  "toc": {
   "nav_menu": {},
   "number_sections": true,
   "sideBar": true,
   "skip_h1_title": false,
   "toc_cell": false,
   "toc_position": {},
   "toc_section_display": "block",
   "toc_window_display": false
  },
  "varInspector": {
   "cols": {
    "lenName": 16,
    "lenType": 16,
    "lenVar": 40
   },
   "kernels_config": {
    "python": {
     "delete_cmd_postfix": "",
     "delete_cmd_prefix": "del ",
     "library": "var_list.py",
     "varRefreshCmd": "print(var_dic_list())"
    },
    "r": {
     "delete_cmd_postfix": ") ",
     "delete_cmd_prefix": "rm(",
     "library": "var_list.r",
     "varRefreshCmd": "cat(var_dic_list()) "
    }
   },
   "types_to_exclude": [
    "module",
    "function",
    "builtin_function_or_method",
    "instance",
    "_Feature"
   ],
   "window_display": false
  }
 },
 "nbformat": 4,
 "nbformat_minor": 1
}
