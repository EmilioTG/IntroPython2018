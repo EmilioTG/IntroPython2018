{
 "cells": [
  {
   "cell_type": "markdown",
   "metadata": {},
   "source": [
    "# Crecimiento ilimitado de la población\n",
    "\n",
    "Un modelo elemental del crecimiento de una población se basa en la hipótesis de que:\n",
    "\n",
    "## <font color =red>La velocidad de crecimiento de la población es proporcional al tamaño de la población</font>\n",
    "\n",
    "1. Observe que la razón de cambio de una población sólo depende del tamaño de ésta. \n",
    "\n",
    "- En particular, las limitaciones del espacio o recursos no tienen efecto. \n",
    "\n",
    "- Esta hipótesis es razonable para pequeñas poblaciones en grandes entornos, por ejemplo, los primeros brotes de moho en una pieza de pan o los primeros colonizadores de Estados Unidos.\n",
    "\n",
    "Como la hipótesis es tan simple, esperamos que el modelo también lo sea, Las cantidades implicadas son\n",
    "\n",
    "- $t$ = tiempo (variable inependiente).\n",
    "- $P$ = población (variable dependiente)\n",
    "- $k$ = constante de proporcionalidad (parámetro) entre la tasa de crecimiento de la población y el tamaño de ésta.\n",
    "\n",
    "** El parámetro $k$ suele llamarse \"coeficiente de velocidad de crecimiento\".** \n",
    "\n",
    "Las unidades para esas cantidades dependen de la aplicación.\n",
    "\n",
    "- Si estamos modelando el crecimiento de moho en el pan, entonces $t$ podría medirse en días y $P(t)$ sería el área cubierta por el moho o bien el peso del moho. \n",
    "\n",
    "- Si estamos hablando de la población europea en Estados Unidos, entonces $t$ probablemente se medirá en años y $P(t)$ en millones de personas. En este caso haríamos corresponder $t=0$ a cualquier tiempo que quisiéramos. El año 1790 (el año del primer censo) es una opción conveniente.\n",
    "\n",
    "\n",
    "## Expresemos ahora nuestra hipótesis usando esta notación.\n",
    "\n",
    "La tasa de crecimiento de la población $P$ es la derivada $\\frac{dP}{dt}$. Puesto que ésta es proporcional a la población, se expresa como el producto, $kP$, de la población $P$ y la constante $k$ de proporcionalidad. \n",
    "\n",
    "Por consiguiente, nuestra hipótesis se expresa por la ecuación diferencial\n",
    "\n",
    "$$ \\frac{dP}{dt} = kP $$\n",
    "\n",
    "En otras palabras, la razón de cambio de $P$ es proporcional a $P$.\n",
    "<font color=blue>** Éste es nuestro primer ejemplo de una ecuación diferencial.** </font>\n",
    "\n",
    "Asociada con ella hay varios adjetivos que describen su tipo. En particula, se trata de una ecuación de **primer orden** porque contiene sólo primeras derivadas de la variable dependiente, y es una **ecuación differencial ordinaria** porque no contiene derivadas parciales. \n",
    "\n",
    "Hemos escrito esta ecuación diferencial usando la notación de Leibniz, es decir, $\\frac{dP}{dt}$, y es la que tenderemos a usar. Sin embargo, hay muchas otras maneras de expresar la misma ecuación diferencial.\n",
    "\n",
    "En particula, también podríamos escribirla como $P'=kP$ o como $\\dot{P} = kP$. la notación \"punto\" suele utilizarse cuando la variable independiente es el tiempo $t$.\n"
   ]
  },
  {
   "cell_type": "markdown",
   "metadata": {},
   "source": [
    "# ¿Qué predice el modelo?\n",
    "\n",
    "Más importante que los adjetivos o cómo se escribe la ecuación es preguntar qué nos dice acerca de la situación que se está modelando. Como $\\frac{dP}{dt}=kP$ para alguna constante $k$ y $\\frac{dP}{dt}=0$ si $P=0$.\n",
    "\n",
    "Entonces la función constante $P(t)=0$ es una solución de la ecuacioón diferencial. A este tipo especial se le denomina **solución de equilibrio ** porque es constante para siempre. En términos del modelo de población, corresponde a una especie que es no existente.\n",
    "\n",
    "Si $P(t_0) \\neq 0$ en algún tiempo $t_0$, entonces en el tiempo $t=t_0$\n",
    "\n",
    "$$ \\frac{dP}{dt} = kP(t_0) \\neq 0 $$\n",
    "\n",
    "En consecuencia, la población no es constante. Si $k>0$ y $P(t_0)>0$, tenemos\n",
    "\n",
    "$$ \\frac{dP}{dt}= kP >0$$\n",
    "\n",
    "en el tiempo $t=t_0$ y la población está creciendo (como era de esperarse). \n",
    "\n",
    "Conforme $t$ crece, $P(t)$ se vuelve mayor, por lo que $ \\frac{dP}{dt} $ aumenta. A su vez, $P(t)$ crece aún más rápidamente.\n",
    "\n",
    "Es decir, la velocidad de crecimiento crece en relación directa con la población.\n",
    "\n",
    "El valor de $P(t)$ en  $t=0 $ se llama una **condición inicial **.\n",
    "\n",
    "<font color =red>Si comenzamos con una condición inicial diferente obtenemos una función $P(t)$ distinta,</font> "
   ]
  },
  {
   "cell_type": "code",
   "execution_count": null,
   "metadata": {},
   "outputs": [],
   "source": []
  },
  {
   "cell_type": "markdown",
   "metadata": {},
   "source": [
    "# Solucion analitica de la ecuación diferencial\n",
    "\n",
    "Si, por otra parte, conocemos el valor exacto de $P_0$ de $P(0)$ y queremos predecir el valor de $P(10)$ o $P(100)$, entonces necesitamos información más precisa sobre la función $P(t)$. El par de ecuaciónes\n",
    "\n",
    "## $$ \\frac{dP}{dt}= kP \\ \\ \\ \\ P(0) = P_0$$\n",
    "\n",
    "se llama **problema de valor inicial. ** Y una ** solución** al problema de valor inicial es una función $P(t)$ que satisface ambas ecuaciones. Es decir\n",
    "\n",
    "## $$ \\frac{dP}{dt}= kP \\ \\ y \\ \\ P(0) = P_0$$\n",
    "\n",
    "En consecuencia, para solucionar esta ecuación diferencial debemos hallar una función $P(t)$ cuya derivada sea el producto de $k$ con $P(t)$.\n",
    "\n",
    "# Separación de variables\n",
    "\n",
    "## $$ \\frac{dP}{P}= kdt$$\n",
    "\n",
    "## $$\\int \\frac{dP}{P}= \\int kdt$$\n",
    "\n",
    "## $$ \\ln P + c_1= k t +c_2$$\n",
    "## $$ e^{\\ln P} = e^{k t +c}$$\n",
    "## $$ P(t) = e^{k t} e^{c}$$\n",
    "## $$ P(t) = ce^{k t} $$\n",
    "\n",
    "<font color=red>**Existe un número infinito de soluciones** para la ecuación diferencial, **una para cada valor de $c$.** </font>\n",
    "\n",
    "Para determinar cuál de ésas es la correcta para la situación considerada, usamos la condición inicial dada.\n",
    "\n",
    "## $$P_0= P(0) = c \\cdot e^{k\\cdot 0} = c \\cdot e^0 = c \\cdot 1 = c $$\n",
    "\n",
    "En consecuencia, debemos escoger $c= P_0$, por lo que una solución del problema del valor inicial es \n",
    "\n",
    "## $$ P(t) = P_0e^{k t} $$\n",
    "\n",
    "La función $P(t)$ se llama solución al problema del valor inicial así como **solución particular** de la ecuación diferencial.\n",
    "\n",
    "El conjunto de funciones $P(t) = ce^{kt}$ se llama ** solucion general** de la ecuación general, porque podemos usarla para encontrar la respuesta particular correspondiente a cualquier problema de valor inicial."
   ]
  },
  {
   "cell_type": "markdown",
   "metadata": {},
   "source": [
    "# Ejemplo: Método de Euler\n",
    "\n",
    "$$ \\frac{dP}{dt}= 2P \\ \\ \\ \\ P(0) = 10 $$\n",
    "\n",
    "$$ \\frac{P_{k+1}-P_{k}}{h}= 2P_k $$\n",
    "\n",
    "\n",
    "$$ P_{k+1}=P_{k} + h2P_k $$\n",
    "\n",
    "Es evidente que la ordenada $y_1$ calculada de esta manera no es igual a $F(x1)$ pues existe un pequeño error. No obstante, el valor $y_1$ sive para aproximar $F'(x)$ en el punto $P=(x_1,y_1)$ y repeteri el procedimiento anterior a fin de generar la sucesión de aproximaciones siguiente\n",
    "\n",
    "\n",
    "$$ y_1 = y_0 + h f(x_0,y_0)$$\n",
    "$$ y_2 = y_1 + h f(x_1,y_1)$$\n",
    "$$\\vdots $$\n",
    "$$ y_{i+1} = y_i + h f(x_i,y_i)$$\n",
    "$$\\vdots $$\n",
    "$$ y_{n} = y_{n-1} + h f(x_{n-1},y_{n-1})$$"
   ]
  },
  {
   "cell_type": "code",
   "execution_count": null,
   "metadata": {},
   "outputs": [],
   "source": []
  },
  {
   "cell_type": "markdown",
   "metadata": {},
   "source": [
    "# Ejemplo:  Solución analitica de la ecuación diferencial\n",
    "\n",
    "$$ \\frac{dP}{dt}= 2P \\ \\ \\ \\ P(0) = 10, \\ \\ \\ k=2$$\n",
    "\n",
    "\n",
    "## Separación de variables\n",
    "\n",
    "$$ \\frac{dP}{P}= 2dt$$\n",
    "\n",
    "$$\\int \\frac{dP}{P}= \\int 2dt$$\n",
    "\n",
    "$$ \\ln P + c_1= 2 t +c_2$$\n",
    "$$ e^{\\ln P} = e^{2 t +c}$$\n",
    "$$ P(t) = e^{2 t} e^{c}$$\n",
    "$$ P(t) = ce^{2 t} $$\n",
    "\n",
    "\n",
    "\n",
    "$$P_0= P(0) = c \\cdot e^{2\\cdot 0} = c \\cdot e^0 = c \\cdot 1 = c $$\n",
    "\n",
    "<font color=red>Solución: </font>\n",
    "$$ P(t)=  10e^{2t}$$\n"
   ]
  },
  {
   "cell_type": "markdown",
   "metadata": {},
   "source": [
    "- Ecuación diferencial\n",
    "$$ \\frac{dP}{dt}= 2P \\ \\ \\ \\ P(0) = 10 $$\n",
    "- Método de Euler\n",
    "$$ P_{k+1}=P_{k} + h2P_k $$\n",
    "- Solución particular de la ecuación diferencial.\n",
    "$$ P(t) = P_0e^{2 t} $$"
   ]
  },
  {
   "cell_type": "markdown",
   "metadata": {},
   "source": [
    "# Ejemplo"
   ]
  },
  {
   "cell_type": "code",
   "execution_count": 2,
   "metadata": {},
   "outputs": [],
   "source": [
    "%matplotlib inline \n",
    "import matplotlib.pylab as plt\n",
    "import numpy as np\n",
    "import matplotlib as mpl\n",
    "label_size = 14\n",
    "mpl.rcParams['xtick.labelsize'] = label_size \n",
    "mpl.rcParams['ytick.labelsize'] = label_size"
   ]
  },
  {
   "cell_type": "code",
   "execution_count": null,
   "metadata": {},
   "outputs": [],
   "source": []
  },
  {
   "cell_type": "code",
   "execution_count": 23,
   "metadata": {
    "scrolled": true
   },
   "outputs": [
    {
     "data": {
      "image/png": "[encoded data removed]",
      "text/plain": [
       "<matplotlib.figure.Figure at 0x150c0bc160>"
      ]
     },
     "metadata": {},
     "output_type": "display_data"
    }
   ],
   "source": [
    "P = lambda t: 10*np.exp(2*t) \n",
    "    \n",
    "def dP (Pk,h):\n",
    "    Pk1= Pk + h*2*Pk\n",
    "    return Pk1\n",
    "\n",
    "def dP_dt (P,t):\n",
    "    dP= 2*P\n",
    "    return dP\n",
    "\n",
    "tfin =3\n",
    "h=.1\n",
    "\n",
    "#Solucion exacta\n",
    "t = np.arange(0,tfin+.1,.1)\n",
    "plt.plot(t,P(t),\"b\")\n",
    "\n",
    "#Utilizando metodo de euler    \n",
    "Pk=np.arange(0,tfin+h,h)\n",
    "Pk[0]=10\n",
    "\n",
    "for k in np.arange(0,Pk.size-1) :\n",
    "    Pk[k+1] = dP(Pk[k],h)\n",
    "\n",
    "tk=np.arange(0,tfin+h,h)\n",
    "plt.plot(tk,Pk,\"g\")    \n",
    "    \n",
    "#Utilizando odeint\n",
    "t = np.arange(0,3,.1);\n",
    "x = odeint(dP_dt,10,t)\n",
    "plt.plot(t,x,'r');"
   ]
  },
  {
   "cell_type": "code",
   "execution_count": null,
   "metadata": {},
   "outputs": [],
   "source": []
  },
  {
   "cell_type": "markdown",
   "metadata": {},
   "source": [
    "# La población de Estados Unidos\n",
    "\n",
    "Consideremos las cifras de los censos de Estados Unidos desde 1790.\n",
    "\n",
    "- Medimos el tiempo en años y la población $P(t)$ en millones de personas.\n",
    "\n",
    "- Hacemos que $t=0$ sea el año $1790$, por lo que la condición inicial es $P(0) = 3.9$\n",
    "\n",
    "## $$ \\frac{dP}{dt}= kP \\ \\ \\ \\ P(0) = 3.9$$\n",
    "\n",
    "## tiene $ P(t) = 3.9 e^{k t} $ como solución.\n",
    "\n",
    "Pero no podemos usar este modelo para hacer predicciones porque **no conocemos el valor de $k$**.\n",
    "\n",
    "Sin embargo, sabemos que la población en el año $1800$ era de $5.3$ millones y podemos usar este valor para determinar $k$. Si hacemos\n",
    "\n",
    "## $$5.3 = P(10) = 3.9 e^{k\\cdot 10 }$$\n",
    "\n",
    "tenemos entonces\n",
    "\n",
    "## $$  e^{k\\cdot 10}  = \\frac{5.3}{3.9} $$\n",
    "\n",
    "## $$  10 k   = \\ln \\frac{5.3}{3.9} $$\n",
    "\n",
    "## $$ k   \\approx 0.03067. $$\n",
    "\n",
    "## $$ P(t) = 3.9 e^{ 0.03067 \\cdot t} $$"
   ]
  },
  {
   "cell_type": "code",
   "execution_count": 20,
   "metadata": {},
   "outputs": [
    {
     "data": {
      "text/plain": [
       "Text(0,0.5,'P(t)')"
      ]
     },
     "execution_count": 20,
     "metadata": {},
     "output_type": "execute_result"
    },
    {
     "data": {
      "image/png": "[encoded data removed]",
      "text/plain": [
       "<matplotlib.figure.Figure at 0x150bc96748>"
      ]
     },
     "metadata": {},
     "output_type": "display_data"
    }
   ],
   "source": [
    "año = np.arange(1790,2000,10)\n",
    "t = np.arange(0,210,10)\n",
    "real = np.array([3.9,5.3,7.2,9.6,12,17,23,31,38,50,62,75,91,105,122,131,151,179,203,226,249])\n",
    "\n",
    "Pt = 3.9*np.exp(0.03067*t)\n",
    "\n",
    "plt.plot(t,real)\n",
    "plt.plot(t,Pt)\n",
    "\n",
    "_=plt.xticks(t, año, rotation='vertical')\n",
    "plt.margins(0.05)\n",
    "plt.xlabel(\"t\")\n",
    "plt.ylabel(\"P(t)\")"
   ]
  },
  {
   "cell_type": "markdown",
   "metadata": {},
   "source": [
    "![](1.png)"
   ]
  },
  {
   "cell_type": "markdown",
   "metadata": {},
   "source": [
    "Nuestro modelo es bastante bueno siempre que la población sea relativamente pequeña.\n",
    "\n",
    "Sin embargo, con el paso del tiempo el modelo predice que la población continuará creciendo sin límite, y obviamente esto no sucede en el mundo real.\n",
    "\n",
    "En consecuencia, si queremos un modelo que sea exacto sobre una escala grande de tiempo, debemos tomar en cuenta el hecho de que la poblaciones existen en una cantidad finita de espacio y con recursos limitados. "
   ]
  },
  {
   "cell_type": "code",
   "execution_count": null,
   "metadata": {},
   "outputs": [],
   "source": []
  },
  {
   "cell_type": "markdown",
   "metadata": {},
   "source": [
    "# Ejercicio: La población de Estados Unidos\n",
    "\n",
    "\n",
    "\n",
    "## $$ \\frac{dP}{dt}= kP \\ \\ \\ \\ P(0) = 3.9$$\n",
    "\n",
    "## $$ k   \\approx 0.03067. $$"
   ]
  },
  {
   "cell_type": "code",
   "execution_count": 7,
   "metadata": {
    "scrolled": true
   },
   "outputs": [
    {
     "data": {
      "text/plain": [
       "<matplotlib.text.Text at 0x108b326d8>"
      ]
     },
     "execution_count": 7,
     "metadata": {},
     "output_type": "execute_result"
    },
    {
     "data": {
      "image/png": "[encoded data removed]",
      "text/plain": [
       "<matplotlib.figure.Figure at 0x108275198>"
      ]
     },
     "metadata": {},
     "output_type": "display_data"
    }
   ],
   "source": [
    "def df (P,k,h):\n",
    "    \n",
    "    return P + h*k*P\n",
    "\n",
    "h=.5\n",
    "Pk1=np.arange(0,200+h,h)\n",
    "t = np.arange(0,Pk1.size-1)\n",
    "k=0.03067\n",
    "Pk1[0]= 3.9\n",
    "\n",
    "for i in  t:\n",
    "    Pk1[i+1] = df(Pk1[i],k,h)\n",
    "\n",
    "x= int (1/h)\n",
    "\n",
    "\n",
    "t = np.arange(0,200+h,h)\n",
    "plt.plot(t,Pk1,\"r\")\n",
    "\n",
    "\n",
    "\n",
    "año = np.arange(1790,2000,10)\n",
    "t = np.arange(0,210,10)\n",
    "real = np.array([3.9,5.3,7.2,9.6,12,17,23,31,38,50,62,75,91,105,122,131,151,179,203,226,249])\n",
    "\n",
    "Pt = 3.9*np.exp(0.03067*t)\n",
    "\n",
    "plt.plot(t,real,\"g\")\n",
    "plt.plot(t,Pt,\"b\")\n",
    "\n",
    "\n",
    "_=plt.xticks(t, año, rotation='vertical')\n",
    "plt.margins(0.05)\n",
    "plt.xlabel(\"t\")\n",
    "plt.ylabel(\"P(t)\")"
   ]
  },
  {
   "cell_type": "code",
   "execution_count": null,
   "metadata": {},
   "outputs": [],
   "source": []
  },
  {
   "cell_type": "code",
   "execution_count": null,
   "metadata": {},
   "outputs": [],
   "source": []
  },
  {
   "cell_type": "markdown",
   "metadata": {},
   "source": [
    "# Modelo logístico de la población\n",
    "\n",
    "Para ajustar el modelo de crecimiento exponencial de la población que tome en cuenta un entorno y recursos limitados, agregamos la hipótesis:\n",
    "\n",
    "## Si la población es pequeña, la razón de crecimiento de la población es proporcional a su tamaño. \n",
    "\n",
    "## Si la población es demasiado grande para ser soportada por su entorno y recursos. la  población disminuirá. Es decir, la razón de crecimiento es negativa.\n",
    "\n",
    "Para este modelo usamos de nuevo\n",
    "\n",
    "- $t$ = tiempo (variable inependiente).\n",
    "- $P$ = población (variable dependiente)\n",
    "- $k$ = constante de proporcionalidad (parámetro) entre la tasa de crecimiento de la población y el tamaño de ésta.\n",
    "\n",
    "Sin embargo, nuestra hipótesis acerca de recursos limitados introduce otra cantidad, el tamaño de la población que corresponde a ser **\"demasiado grande\"**. Esta cantidad es un segundo parámetro, denotado por $N$, que llamamos la **\"capacidad de soporte\"** del entorno. \n",
    "\n",
    "En términos de la capacidad de soporte, estamos suponiendo que $P(t)$ crece si $P(t)<N$. No obstante, si $P(t)>N$, suponemos que $P(t)$ está decreciendo.\n",
    "\n",
    "Usando esta notación, podemos reescribir nuestras hipótesis como:\n",
    "\n",
    "- $\\frac{dP}{dt} \\approx kP$ si $P$ es pequeña (primera hipótesis).\n",
    "\n",
    "- Si $P>N,\\  \\frac{dP}{dt} <0 $ (segunda hipótesis).\n",
    "\n",
    "Queremos también que el modelo sea **\"algebraicamente simple\"** o por lo menos tan simple como sea posible, por lo que tratamos de modificar el modelo exponencial lo menos posible. \n",
    "\n",
    "Por ejemplo, podríamos intentar una expresión de la forma\n",
    "\n",
    "$$\\frac{dP}{dt} = k (algo) P $$\n",
    "\n",
    "Queremos que el factor **\"algo\"** sea cercano a $1$ si $P$ es pequeña, pero si $P>N$, queremos que **\"algo\"** sea negativo. La expresión más simple que tienen estas propiedades es la función\n",
    "\n",
    "$$ (algo) = \\left(1 - \\frac{P}{N} \\right)$$\n",
    "\n",
    "Note que esta expresión es igual a $1$ si $P=0$ y es negativa si $P>N$. Nuestro modelo es entonces\n",
    "\n",
    "$$\\frac{dP}{dt} = k \\left(1 - \\frac{P}{N} \\right) P $$\n",
    "\n",
    "Éste se llama el **modelo logístico de la población ** con velocidad de crecimiento $k$ y capacidad $N$ de soporte.\n",
    "\n",
    "Se trata de otra ecuación diferencial de primer orden. Se dice que esta ecuación es **no lineal ** por que su lado derecho no es una función lineal de $P$ como lo era en el modelo de crecimiento exponencial."
   ]
  },
  {
   "cell_type": "code",
   "execution_count": 14,
   "metadata": {},
   "outputs": [
    {
     "name": "stdout",
     "output_type": "stream",
     "text": [
      "60.0972942378 10000\n"
     ]
    },
    {
     "data": {
      "text/plain": [
       "<matplotlib.legend.Legend at 0x10a180da0>"
      ]
     },
     "execution_count": 14,
     "metadata": {},
     "output_type": "execute_result"
    },
    {
     "data": {
      "image/png": "[encoded data removed]",
      "text/plain": [
       "<matplotlib.figure.Figure at 0x108c4ab70>"
      ]
     },
     "metadata": {},
     "output_type": "display_data"
    }
   ],
   "source": [
    "def df (P,k,h,N):\n",
    "    return P + h*k*(1-P/N)*P\n",
    "\n",
    "h=.01\n",
    "N=203\n",
    "\n",
    "Pk1=np.arange(0,200+h,h)\n",
    "t = np.arange(0,Pk1.size-1)\n",
    "\n",
    "k=0.03067\n",
    "\n",
    "Pk1[0]= 3.9\n",
    "\n",
    "for i in  t:\n",
    "    Pk1[i+1] = df(Pk1[i],k,h,N)\n",
    "\n",
    "x= int (100/h)\n",
    "print (Pk1[x],t[x])\n",
    "\n",
    "t = np.arange(0,200+h,h)\n",
    "plt.plot(t,Pk1,\"r\",label=\"Modelo\")\n",
    "\n",
    "\n",
    "\n",
    "año = np.arange(1790,2000,10)\n",
    "t = np.arange(0,210,10)\n",
    "real = np.array([3.9,5.3,7.2,9.6,12,17,23,31,38,50,62,75,91,105,122,131,151,179,203,226,249])\n",
    "\n",
    "Pt = 3.9*np.exp(0.03067*t)\n",
    "\n",
    "plt.plot(t,real,\"g\",label=\"Real\")\n",
    "\n",
    "#plt.plot(t,Pt,\"b\")\n",
    "\n",
    "\n",
    "_=plt.xticks(t, año, rotation='vertical')\n",
    "plt.margins(0.05)\n",
    "plt.xlabel(\"t\")\n",
    "plt.ylabel(\"P(t)\")\n",
    "\n",
    "plt.legend(loc = 'best', prop={'size': 14})    "
   ]
  },
  {
   "cell_type": "markdown",
   "metadata": {},
   "source": [
    "# Ecuaciones de Volterra: modelo presa depredador\n",
    "\n",
    "\n",
    "Se trata de un sistema de dos ecuaciones diferenciales de primer orden, acopladas, autónomas y no lineales:\n",
    "\n",
    "$$ \\displaystyle \\frac{dx}{dt} = \\alpha x - \\beta x y $$\n",
    "\n",
    "$$ \\displaystyle \\frac{dy}{dt} = -\\gamma y + \\delta y x $$\n",
    "\n",
    "donde x es el número de presas (cebras en nuestro caso) e y es el número de depredadores (leones). Los parámetros son constantes positivas que representan:\n",
    "\n",
    "- $\\alpha$: tasa de crecimiento de las presas.\n",
    "- $\\beta$: éxito en la caza del depredador.\n",
    "- $\\gamma$: tasa de decrecimiento de los depredadores.\n",
    "- $\\delta$: éxito en la caza y cuánto alimenta cazar una presa al depredador.\n",
    "\n",
    "Aunque este modelo puede parecer relativamente simple, ha sido la base de algunos interesantes estudios ecológicos. En particular, Volterra y D'Ancona usaron con éxito el modelo para explicar el incremento en la población de tiburones en el mar Mediterráneo durante la Primera Guerra Mundial, cuando la pesca de las especies **\"presa\"** decreció. El modelo puede también usarse como base para el estudio de los efectos de los pesticidas en la población de insectos depredadores e insectos presas."
   ]
  },
  {
   "cell_type": "code",
   "execution_count": 18,
   "metadata": {},
   "outputs": [
    {
     "data": {
      "text/plain": [
       "<matplotlib.text.Text at 0x108698780>"
      ]
     },
     "execution_count": 18,
     "metadata": {},
     "output_type": "execute_result"
    },
    {
     "data": {
      "image/png": "[encoded data removed]",
      "text/plain": [
       "<matplotlib.figure.Figure at 0x109d9f5c0>"
      ]
     },
     "metadata": {},
     "output_type": "display_data"
    }
   ],
   "source": [
    "from scipy.integrate import odeint\n",
    "\n",
    "def df_dt(x, t, a, b, c, d):\n",
    "    \"\"\"Función del sistema en forma canónica\"\"\"\n",
    "    dx = a * x[0] - b * x[0] * x[1]\n",
    "    dy = - c * x[1] + d * x[0] * x[1]\n",
    "    return np.array([dx, dy])\n",
    "\n",
    "# Parámetros\n",
    "a = 0.1\n",
    "b = 0.02\n",
    "c = 0.3\n",
    "d = 0.01\n",
    "\n",
    "# Condiciones iniciales\n",
    "x0 = 40   # Presas\n",
    "y0 = 9    # Depredadores\n",
    "conds_iniciales = np.array([x0, y0])\n",
    "\n",
    "# Condiciones para integración\n",
    "tf = 200\n",
    "N = 800\n",
    "t = np.linspace(0, tf, N)\n",
    "\n",
    "solucion = odeint(df_dt, conds_iniciales, t, args=(a, b, c, d))\n",
    "#plt.plot(t, solucion[:, 0], label='presa')\n",
    "#plt.plot(t, solucion[:, 1], label='depredador')\n",
    "plt.plot(solucion[:, 0], solucion[:, 1])\n",
    "plt.xlabel('Presas', fontsize = 14) \n",
    "plt.ylabel('Depredadores', fontsize = 14) "
   ]
  },
  {
   "cell_type": "markdown",
   "metadata": {},
   "source": [
    "## Ecuaciones de Volterra: modelo presa depredador\n",
    "\n",
    "$$\n",
    "\\begin{align}\n",
    "\\dot{x}_1 &=-x_1 +x_1x_2,\\\\\n",
    "\\dot{x}_2 &=x_2 -x_1x_2\n",
    "\\end{align}\n",
    "$$"
   ]
  },
  {
   "cell_type": "code",
   "execution_count": 17,
   "metadata": {},
   "outputs": [
    {
     "data": {
      "text/plain": [
       "[<matplotlib.lines.Line2D at 0x10a38e2e8>]"
      ]
     },
     "execution_count": 17,
     "metadata": {},
     "output_type": "execute_result"
    },
    {
     "data": {
      "image/png": "[encoded data removed]",
      "text/plain": [
       "<matplotlib.figure.Figure at 0x10ae1a518>"
      ]
     },
     "metadata": {},
     "output_type": "display_data"
    }
   ],
   "source": [
    "def Voltera (x,t):\n",
    "    \n",
    "    return [-x[0] + x[0]*x[1],x[1]-x[0]*x[1]]\n",
    "\n",
    "t = np.arange(0,200,.1)\n",
    "x = odeint(Voltera,[1.2,1.2],t)\n",
    "plt.plot(x[:,0],x[:,1])"
   ]
  },
  {
   "cell_type": "code",
   "execution_count": 1,
   "metadata": {},
   "outputs": [
    {
     "ename": "NameError",
     "evalue": "name 'np' is not defined",
     "output_type": "error",
     "traceback": [
      "\u001b[0;31m---------------------------------------------------------------------------\u001b[0m",
      "\u001b[0;31mNameError\u001b[0m                                 Traceback (most recent call last)",
      "\u001b[0;32m<ipython-input-1-d94590db790f>\u001b[0m in \u001b[0;36m<module>\u001b[0;34m()\u001b[0m\n\u001b[0;32m----> 1\u001b[0;31m \u001b[0mt\u001b[0m \u001b[0;34m=\u001b[0m \u001b[0mnp\u001b[0m\u001b[0;34m.\u001b[0m\u001b[0marange\u001b[0m\u001b[0;34m(\u001b[0m\u001b[0;36m0\u001b[0m\u001b[0;34m,\u001b[0m\u001b[0;36m3\u001b[0m\u001b[0;34m,\u001b[0m\u001b[0;36m.1\u001b[0m\u001b[0;34m)\u001b[0m\u001b[0;34m\u001b[0m\u001b[0m\n\u001b[0m\u001b[1;32m      2\u001b[0m \u001b[0;34m\u001b[0m\u001b[0m\n\u001b[1;32m      3\u001b[0m \u001b[0mx1\u001b[0m \u001b[0;34m=\u001b[0m \u001b[0mnp\u001b[0m\u001b[0;34m.\u001b[0m\u001b[0marange\u001b[0m\u001b[0;34m(\u001b[0m\u001b[0;34m-\u001b[0m\u001b[0;36m2\u001b[0m\u001b[0;34m,\u001b[0m\u001b[0;36m2\u001b[0m\u001b[0;34m,\u001b[0m\u001b[0;36m.2\u001b[0m\u001b[0;34m)\u001b[0m\u001b[0;34m\u001b[0m\u001b[0m\n\u001b[1;32m      4\u001b[0m \u001b[0mx2\u001b[0m\u001b[0;34m=\u001b[0m\u001b[0mx1\u001b[0m\u001b[0;34m\u001b[0m\u001b[0m\n\u001b[1;32m      5\u001b[0m \u001b[0;34m\u001b[0m\u001b[0m\n",
      "\u001b[0;31mNameError\u001b[0m: name 'np' is not defined"
     ]
    }
   ],
   "source": [
    "t = np.arange(0,3,.1)\n",
    "\n",
    "x1 = np.arange(-2,2,.2)\n",
    "x2=x1\n",
    "\n",
    "N= len(x1)\n",
    "\n",
    "for xr in x1:\n",
    "    for xc in x2:\n",
    "        x0 = [xr,xc]\n",
    "        \n",
    "        x = odeint(Voltera,x0,t)\n",
    "        plt.plot(x[:,0],x[:,1])\n",
    "        plt.hold(True)\n",
    "        \n",
    "plt.axis([-5,5,-5,5])"
   ]
  },
  {
   "cell_type": "markdown",
   "metadata": {},
   "source": [
    "# Teorema 1\n",
    "\n",
    "La ecuación diferencial lineal de orden $n$\n",
    "\n",
    "$$x^{(n)} + a_1x^{(n-1)}+ a_2x^{(n-2)} + \\ldots + a_{n-1}x' + a_nx =f(t) $$\n",
    "\n",
    "puede expresarse como un sistema de $n$ ecuaciónes lineales de primer orden.\n",
    "\n",
    "*Demostración* Defina $x_1=x ,x_2=x',x_3=x'', \\ldots, x_n=x^{n-1}$ Entonces tenemos\n",
    "\n",
    "\n",
    "$$ \\dot{x}_1 = x_2$$\n",
    "$$ \\dot{x}_2 = x_3$$\n",
    "$$ \\vdots$$\n",
    "$$ \\dot{x}_{n-1} = x_n$$\n",
    "$$ \\dot{x}_n = -a_nx_1 -a_{n-1}x_2 - \\ldots - a_1x_n +f$$"
   ]
  },
  {
   "cell_type": "markdown",
   "metadata": {},
   "source": [
    "# Ejemplo\n",
    "\n",
    "$$t^3x''' + 4t^2x'' - 8tx' + 8x =0  $$\n",
    "\n",
    "$$x(0)=3,x'(0)=-6,x''(0)=14 $$.\n",
    "\n",
    "\n",
    "Definiendo $x_1=x,x_2=x',x_3=x''$, obtenemos el sistema\n",
    "\n",
    "$$\\dot{x}_1 = x_2 $$\n",
    "$$\\dot{x}_2 = x_3 $$\n",
    "$$\\dot{x}_3 =  -\\frac{8}{t^3}x_1 +\\frac{8}{t^2}x_2 - \\frac{4}{t}x_3  $$"
   ]
  },
  {
   "cell_type": "code",
   "execution_count": 1,
   "metadata": {},
   "outputs": [
    {
     "ename": "NameError",
     "evalue": "name 'np' is not defined",
     "output_type": "error",
     "traceback": [
      "\u001b[0;31m---------------------------------------------------------------------------\u001b[0m",
      "\u001b[0;31mNameError\u001b[0m                                 Traceback (most recent call last)",
      "\u001b[0;32m<ipython-input-1-c1e5b7ebb467>\u001b[0m in \u001b[0;36m<module>\u001b[0;34m()\u001b[0m\n\u001b[1;32m     10\u001b[0m \u001b[0mx1\u001b[0m \u001b[0;34m=\u001b[0m \u001b[0;34m-\u001b[0m\u001b[0;36m6\u001b[0m\u001b[0;34m\u001b[0m\u001b[0m\n\u001b[1;32m     11\u001b[0m \u001b[0mx2\u001b[0m \u001b[0;34m=\u001b[0m \u001b[0;36m14\u001b[0m\u001b[0;34m\u001b[0m\u001b[0m\n\u001b[0;32m---> 12\u001b[0;31m \u001b[0mconds_iniciales\u001b[0m \u001b[0;34m=\u001b[0m \u001b[0mnp\u001b[0m\u001b[0;34m.\u001b[0m\u001b[0marray\u001b[0m\u001b[0;34m(\u001b[0m\u001b[0;34m[\u001b[0m\u001b[0mx0\u001b[0m\u001b[0;34m,\u001b[0m\u001b[0mx1\u001b[0m\u001b[0;34m,\u001b[0m\u001b[0mx2\u001b[0m\u001b[0;34m]\u001b[0m\u001b[0;34m)\u001b[0m\u001b[0;34m\u001b[0m\u001b[0m\n\u001b[0m\u001b[1;32m     13\u001b[0m \u001b[0;34m\u001b[0m\u001b[0m\n\u001b[1;32m     14\u001b[0m \u001b[0;31m# Condiciones para integración\u001b[0m\u001b[0;34m\u001b[0m\u001b[0;34m\u001b[0m\u001b[0m\n",
      "\u001b[0;31mNameError\u001b[0m: name 'np' is not defined"
     ]
    }
   ],
   "source": [
    "def df_dt2(x, t):\n",
    "    \"\"\"Función del sistema en forma canónica\"\"\"\n",
    "    dx1 = x[1];\n",
    "    dx2 = x[2]\n",
    "    dx3 = - 8/t**3 *x[0] + 8/t**2 *x[1] - 4/t *x[2]\n",
    "    return np.array([dx1, dx2 , dx3])\n",
    "\n",
    "# Condiciones iniciales\n",
    "x0 = 3   \n",
    "x1 = -6\n",
    "x2 = 14\n",
    "conds_iniciales = np.array([x0,x1,x2])\n",
    "\n",
    "# Condiciones para integración\n",
    "tf = 10\n",
    "N = 800\n",
    "t = np.linspace(0.1, tf, N)\n",
    "\n",
    "solucion = odeint(df_dt2, conds_iniciales, t)\n",
    "plt.plot(t, solucion[:, 0])\n",
    "plt.plot(t, solucion[:, 1])\n",
    "plt.plot(t, solucion[:, 2])\n",
    "#plt.plot(solucion[:, 0], solucion[:, 1])"
   ]
  },
  {
   "cell_type": "markdown",
   "metadata": {},
   "source": []
  },
  {
   "cell_type": "markdown",
   "metadata": {},
   "source": [
    "# Un Modelo de ahorro\n",
    "\n",
    "Supongamos que depositamos $ \\$5000 $ en una cuenta de ahorro con interés incrementado a una tasa de $ 5\\% $ compuesto en forma continua. Si $ A(t)$ denota la cantidad de dinero en la cuenta en el tiempo $ t$, \n",
    "\n",
    "\n",
    "entonces la ecuación diferencial para $A$ es\n",
    "\n",
    "$$ \\frac{dA}{dt} = 0.05A $$\n",
    "\n",
    "Como vimos en la sección previa, la solución general para esta ecuación es la función exponencial\n",
    "\n",
    "$$A(t) = ce^{0.05t} $$\n",
    "\n",
    "donde $c = A(0).$ Entonces\n",
    "\n",
    "$$ A(t) = 5000e^{0.05t}$$\n",
    "es nuestra solución particular.\n",
    "\n",
    "Suponiendo que la tasa de interés nunca cambian, después de 10 años tendremos \n",
    "\n",
    "$$ A(10) = 5000 e^{0.5} \\approx  8244  $$\n",
    "\n",
    "Pesos en esta cuenta."
   ]
  },
  {
   "cell_type": "markdown",
   "metadata": {},
   "source": [
    "# Simula la solución analitica de la ecuación diferencial"
   ]
  },
  {
   "cell_type": "code",
   "execution_count": 106,
   "metadata": {},
   "outputs": [
    {
     "data": {
      "text/plain": [
       "[<matplotlib.lines.Line2D at 0x10df7df60>]"
      ]
     },
     "execution_count": 106,
     "metadata": {},
     "output_type": "execute_result"
    },
    {
     "data": {
      "image/png": "[encoded data removed]",
      "text/plain": [
       "<matplotlib.figure.Figure at 0x10bc30828>"
      ]
     },
     "metadata": {},
     "output_type": "display_data"
    }
   ],
   "source": [
    "def fuc(t):\n",
    "    return 5000*np.exp(0.05*t)\n",
    "\n",
    "\n",
    "t = np.arange(0,11,1)\n",
    "\n",
    "A=fuc(t)\n",
    "\n",
    "plt.plot(t,A)"
   ]
  },
  {
   "cell_type": "code",
   "execution_count": 107,
   "metadata": {},
   "outputs": [
    {
     "data": {
      "text/plain": [
       "8243.6063535006415"
      ]
     },
     "execution_count": 107,
     "metadata": {},
     "output_type": "execute_result"
    }
   ],
   "source": [
    "fuc(10)"
   ]
  },
  {
   "cell_type": "markdown",
   "metadata": {},
   "source": [
    "# Simula usando el Método de Euler"
   ]
  },
  {
   "cell_type": "markdown",
   "metadata": {},
   "source": [
    "$$ \\frac{dA}{dt} = 0.05A $$\n",
    "\n",
    "$$ A(0) = 5000$$\n",
    "\n",
    "$$ \\frac{A_{k+1} - A_k}{T} = 0.05A $$\n",
    "$$ A_{k+1} =A_k + T (0.05A) $$"
   ]
  },
  {
   "cell_type": "code",
   "execution_count": 108,
   "metadata": {},
   "outputs": [
    {
     "data": {
      "text/plain": [
       "[<matplotlib.lines.Line2D at 0x10dfb1748>]"
      ]
     },
     "execution_count": 108,
     "metadata": {},
     "output_type": "execute_result"
    },
    {
     "data": {
      "image/png": "[encoded data removed]",
      "text/plain": [
       "<matplotlib.figure.Figure at 0x10e023b38>"
      ]
     },
     "metadata": {},
     "output_type": "display_data"
    }
   ],
   "source": [
    "T=1;\n",
    "A = np.arange(0,11,T)\n",
    "K = np.arange(0,A.size-1,1)\n",
    "A[0] = 5000\n",
    "\n",
    "for k in K:\n",
    "    A[k+1] = A[k] + T* (0.05*A[k])\n",
    "\n",
    "t = np.arange(0,11,T)\n",
    "plt.plot(t,A)"
   ]
  },
  {
   "cell_type": "code",
   "execution_count": 109,
   "metadata": {},
   "outputs": [
    {
     "data": {
      "text/plain": [
       "8138"
      ]
     },
     "execution_count": 109,
     "metadata": {},
     "output_type": "execute_result"
    }
   ],
   "source": [
    "A[int (10/T) ]"
   ]
  },
  {
   "cell_type": "markdown",
   "metadata": {},
   "source": [
    "# Simula usando la funcion odeint de scipy"
   ]
  },
  {
   "cell_type": "markdown",
   "metadata": {},
   "source": [
    "# $ \\frac{dx}{dt} $\n",
    "\n",
    "# $ \\frac{dA}{dt} $\n"
   ]
  },
  {
   "cell_type": "code",
   "execution_count": 110,
   "metadata": {},
   "outputs": [
    {
     "name": "stdout",
     "output_type": "stream",
     "text": [
      "[ 8243.60633225]\n"
     ]
    },
    {
     "data": {
      "image/png": "[encoded data removed]",
      "text/plain": [
       "<matplotlib.figure.Figure at 0x10e037a58>"
      ]
     },
     "metadata": {},
     "output_type": "display_data"
    }
   ],
   "source": [
    "from scipy.integrate import odeint\n",
    "\n",
    "\n",
    "def dA_dt(A,t):\n",
    "    dA =(0.05*A)\n",
    "    return dA\n",
    "    \n",
    "A0 = 5000   \n",
    "T=1\n",
    "t = np.arange(0,11,T)\n",
    "solucion = odeint(dA_dt,A0,t) \n",
    "\n",
    "plt.plot(t,solucion)\n",
    "print (solucion[int (10/T)])"
   ]
  },
  {
   "cell_type": "markdown",
   "metadata": {},
   "source": [
    "# Compara los tres resultados para A(10) = ?"
   ]
  },
  {
   "cell_type": "code",
   "execution_count": null,
   "metadata": {
    "collapsed": true
   },
   "outputs": [],
   "source": []
  }
 ],
 "metadata": {
  "hide_input": false,
  "kernelspec": {
   "display_name": "Python 3",
   "language": "python",
   "name": "python3"
  },
  "language_info": {
   "codemirror_mode": {
    "name": "ipython",
    "version": 3
   },
   "file_extension": ".py",
   "mimetype": "text/x-python",
   "name": "python",
   "nbconvert_exporter": "python",
   "pygments_lexer": "ipython3",
   "version": "3.5.2"
  },
  "toc": {
   "nav_menu": {},
   "number_sections": true,
   "sideBar": true,
   "skip_h1_title": false,
   "toc_cell": false,
   "toc_position": {},
   "toc_section_display": "block",
   "toc_window_display": false
  },
  "varInspector": {
   "cols": {
    "lenName": 16,
    "lenType": 16,
    "lenVar": 40
   },
   "kernels_config": {
    "python": {
     "delete_cmd_postfix": "",
     "delete_cmd_prefix": "del ",
     "library": "var_list.py",
     "varRefreshCmd": "print(var_dic_list())"
    },
    "r": {
     "delete_cmd_postfix": ") ",
     "delete_cmd_prefix": "rm(",
     "library": "var_list.r",
     "varRefreshCmd": "cat(var_dic_list()) "
    }
   },
   "types_to_exclude": [
    "module",
    "function",
    "builtin_function_or_method",
    "instance",
    "_Feature"
   ],
   "window_display": false
  }
 },
 "nbformat": 4,
 "nbformat_minor": 1
}
