{
 "cells": [
  {
   "cell_type": "markdown",
   "metadata": {},
   "source": [
    "# Funciones\n",
    "\n",
    "Una función es un bloque de código el cual puede ser ejecutado cuando y cuantas veces deseemos.\n",
    "\n",
    "La sintaxis para una definición de función en Python es:\n",
    "\n",
    "**def NOMBRE(** LISTA DE PARAMETROS **):**\n",
    "    \n",
    "    SENTENCIAS"
   ]
  },
  {
   "cell_type": "code",
   "execution_count": null,
   "metadata": {
    "collapsed": false
   },
   "outputs": [],
   "source": [
    "def saludo():\n",
    "    print (\"Hola Mundo\")\n",
    "    \n"
   ]
  },
  {
   "cell_type": "markdown",
   "metadata": {},
   "source": [
    "# Una función, no es ejecutada hasta que no sea invocada. Para invocar una función, simplemente se la llama por su nombre:"
   ]
  },
  {
   "cell_type": "code",
   "execution_count": null,
   "metadata": {
    "collapsed": false
   },
   "outputs": [],
   "source": []
  },
  {
   "cell_type": "markdown",
   "metadata": {},
   "source": [
    "### O podemos escribir una nueva función llamada **tres_saludos** que muestre tres saludos:"
   ]
  },
  {
   "cell_type": "code",
   "execution_count": null,
   "metadata": {
    "collapsed": true
   },
   "outputs": [],
   "source": [
    "def tres_saludos():\n",
    "    saludo()\n",
    "    saludo()\n",
    "    saludo()"
   ]
  },
  {
   "cell_type": "code",
   "execution_count": null,
   "metadata": {
    "collapsed": false
   },
   "outputs": [],
   "source": []
  },
  {
   "cell_type": "code",
   "execution_count": null,
   "metadata": {
    "collapsed": true
   },
   "outputs": [],
   "source": [
    "def tres_saludos():\n",
    "    for i in :\n",
    "        saludo()"
   ]
  },
  {
   "cell_type": "code",
   "execution_count": null,
   "metadata": {
    "collapsed": false
   },
   "outputs": [],
   "source": []
  },
  {
   "cell_type": "code",
   "execution_count": null,
   "metadata": {
    "collapsed": true
   },
   "outputs": [],
   "source": [
    "def media_1 ():\n",
    "    media = \n",
    "    print (\"La media es:\",media )"
   ]
  },
  {
   "cell_type": "code",
   "execution_count": null,
   "metadata": {
    "collapsed": false
   },
   "outputs": [],
   "source": [
    "media_1 ()"
   ]
  },
  {
   "cell_type": "markdown",
   "metadata": {},
   "source": [
    "# Las funciones admiten parámetros en su llamada\n",
    "\n",
    "\n",
    "<font color=\"blue\"> Un parámetro es un valor que la función espera recibir cuando sea llamada (invocada) </font>\n",
    "a fin de ejecutar acciones en base al mismo. Una función puede esperar uno o más parámetros (que irán separados por una coma) o ninguno."
   ]
  },
  {
   "cell_type": "code",
   "execution_count": null,
   "metadata": {
    "collapsed": false
   },
   "outputs": [],
   "source": [
    "def media_2 ():\n",
    "    media = (a+b)/2\n",
    "    print (\"La media es:\",media )\n",
    "    "
   ]
  },
  {
   "cell_type": "code",
   "execution_count": null,
   "metadata": {
    "collapsed": false
   },
   "outputs": [],
   "source": [
    "media_2()"
   ]
  },
  {
   "cell_type": "markdown",
   "metadata": {},
   "source": [
    "### <font color = AB1010>Nota:</font> El número de valores que se pasan como parámetro al llamar a la función tiene que coincidir con el número de parámetros que la función acepta según la declaración de la función. "
   ]
  },
  {
   "cell_type": "markdown",
   "metadata": {},
   "source": [
    "# Parámetros por omisión"
   ]
  },
  {
   "cell_type": "code",
   "execution_count": null,
   "metadata": {
    "collapsed": false
   },
   "outputs": [],
   "source": [
    "def media_2 ():\n",
    "    media = (a+b)/2\n",
    "    print (\"La media es:\",media )\n",
    "\n",
    "media_2(3)"
   ]
  },
  {
   "cell_type": "markdown",
   "metadata": {},
   "source": [
    "\n",
    "## Sin embargo también es posible modificar el orden de los parámetros \n",
    "\n",
    "Si indicamos el nombre del parámetro al que asociar el valor a la hora de llamar a la función:"
   ]
  },
  {
   "cell_type": "code",
   "execution_count": null,
   "metadata": {
    "collapsed": false
   },
   "outputs": [],
   "source": [
    "def saludar(nombre, mensaje='Hola'): \n",
    "    print (mensaje, nombre)\n",
    "\n",
    "\n",
    "saludar(mensaje=, nombre=)\n",
    "\n",
    "#saludar(nombre=\"Mundo\",mensaje=\"Buen día\",)\n",
    "#saludar(\"Mundo\",mensaje=\"Buen día\",)\n",
    "\n",
    "#saludar(mensaje=\"Buen día\", \"Mundo\") #error\n",
    "# saludar(\"Buen día\", nombre=\"Mundo\") #error\n"
   ]
  },
  {
   "cell_type": "markdown",
   "metadata": {},
   "source": [
    "# Además las funciones pueden regresar valores\n",
    "\n",
    "Cuando una función, haga un retorno de datos, éstos, pueden ser asignados a una variable."
   ]
  },
  {
   "cell_type": "code",
   "execution_count": null,
   "metadata": {
    "collapsed": true
   },
   "outputs": [],
   "source": [
    "def media_3 (a,b):\n",
    "    media = (a+b)/2\n",
    "    return "
   ]
  },
  {
   "cell_type": "code",
   "execution_count": null,
   "metadata": {
    "collapsed": false
   },
   "outputs": [],
   "source": [
    "media = media_3(3,5)\n",
    "print (\"La media es \",media)"
   ]
  },
  {
   "cell_type": "markdown",
   "metadata": {},
   "source": [
    "### <font color = AB1010>Nota:</font> Esta función puede ser utilizada con más flexibilidad que la del ejemplo anterior, puesto que el programador puede elegir qué hacer con el valor calculado por la función. "
   ]
  },
  {
   "cell_type": "code",
   "execution_count": null,
   "metadata": {
    "collapsed": false
   },
   "outputs": [],
   "source": [
    "if 5 > :\n",
    "    print (\"5 es mayor a la media\")"
   ]
  },
  {
   "cell_type": "markdown",
   "metadata": {},
   "source": [
    "# El ámbito local nolocal y global\n",
    "\n",
    "Variables de **ámbito local**. Es decir, que los parámetros serán **variables locales**, a las cuáles **solo la función podrá acceder**:\n",
    "\n",
    "Si a la variable se le asigna **valor en algún nivel intermedio la variable se considera no local** y si se le **asigna en el programa principal** la variable se considera **global.**"
   ]
  },
  {
   "cell_type": "markdown",
   "metadata": {},
   "source": [
    "# Ámbito global"
   ]
  },
  {
   "cell_type": "code",
   "execution_count": null,
   "metadata": {
    "collapsed": false
   },
   "outputs": [],
   "source": [
    "def funcion1 ():\n",
    "    print (\"El ámbito de la variable es global, valor \",variable_Global)\n",
    "    \n",
    "def funcion2():  \n",
    "    print (\"También aquí conozco el valor.\",variable_Global)\n",
    "\n",
    "variable_Global = \n",
    "funcion1()\n",
    "funcion2()\n",
    "print (\"Y aquí también conozco\",variable_Global)"
   ]
  },
  {
   "cell_type": "markdown",
   "metadata": {},
   "source": [
    "### Si queremos asignar valor a una variable en una funcion, pero no queremos que Python la considere local, debemos declararla en la función como **global** "
   ]
  },
  {
   "cell_type": "code",
   "execution_count": null,
   "metadata": {
    "collapsed": false
   },
   "outputs": [],
   "source": [
    "def funcion_1 ():\n",
    "     variable_Global\n",
    "    variable_Global = 2\n",
    "    print (\"El ámbito de la variable es global, valor \",variable_Global)\n",
    "    \n",
    "def funcion_2():  \n",
    "     variable_Global\n",
    "    print (\"También aquí conozco el valor.\",variable_Global)\n",
    "    variable_Global = 3\n",
    "\n",
    "variable_Global = 1\n",
    "funcion_1()\n",
    "funcion_2()\n",
    "print (\"Y aquí también conozco\",variable_Global)"
   ]
  },
  {
   "cell_type": "markdown",
   "metadata": {},
   "source": [
    "# Ámbito local"
   ]
  },
  {
   "cell_type": "code",
   "execution_count": null,
   "metadata": {
    "collapsed": false
   },
   "outputs": [],
   "source": [
    "def funcion_3 (variable_Local1):\n",
    "    variable_Local2=\n",
    "    print (\"El ámbito de la variable es local, valor \",variable_Local1,variable_Local2)\n",
    "\n",
    "def funcion_4 ():\n",
    "    print (\"Y aquí no la conozco\",variable_Local1,variable_Local2)\n",
    "\n",
    "funcion_3()\n",
    "#funcion_4 ()\n",
    "#print (\"Y aquí no la conozco\",variable_Local1,variable_Local2)"
   ]
  },
  {
   "cell_type": "markdown",
   "metadata": {},
   "source": [
    "# Ámbito nolocal"
   ]
  },
  {
   "cell_type": "code",
   "execution_count": null,
   "metadata": {
    "collapsed": false
   },
   "outputs": [],
   "source": [
    "def funcion_5():\n",
    "    def funcion_6():\n",
    "        print(a)\n",
    "        return\n",
    "\n",
    "    a = \n",
    "    funcion_6()\n",
    "    print(a)\n",
    "    return\n",
    "\n",
    "a = \n",
    "funcion_5()\n",
    "print(a)"
   ]
  },
  {
   "cell_type": "markdown",
   "metadata": {},
   "source": [
    "### Si queremos asignar valor a una variable en una funcion, pero no queremos que Python la considere local, debemos declararla en la función como **nonlocal** "
   ]
  },
  {
   "cell_type": "code",
   "execution_count": null,
   "metadata": {
    "collapsed": false
   },
   "outputs": [],
   "source": [
    "def funcion_5():\n",
    "    def funcion_6():\n",
    "        \n",
    "        print(a)\n",
    "        a=3\n",
    "        return\n",
    "\n",
    "    a = 2\n",
    "    funcion_6()\n",
    "    print(a)\n",
    "    return\n",
    "\n",
    "a = 1\n",
    "funcion_5()\n",
    "print(a)"
   ]
  },
  {
   "cell_type": "markdown",
   "metadata": {},
   "source": [
    "# También es posible, definir funciones con un número variable de argumentos\n",
    "\n",
    "Para definir funciones con un número variable de argumentos colocamos un último parámetro para la función cuyo nombre debe precederse de un signo *:\n",
    "\n",
    "Se suele utilizar el nombre **largs para el parámetro formal**, por List Arguments (argumentos con clave)."
   ]
  },
  {
   "cell_type": "code",
   "execution_count": null,
   "metadata": {
    "collapsed": true
   },
   "outputs": [],
   "source": [
    "def varios(param1, param2, ):\n",
    "    for val in otros:\n",
    "        print (otros)\n",
    "\n",
    "        \n",
    "varios(1, 2)\n",
    "varios(1, 2, 3)\n",
    "varios(1, 2, 3, 4)"
   ]
  },
  {
   "cell_type": "markdown",
   "metadata": {},
   "source": [
    "### <font color = AB1010>Nota:</font> Si una función espera recibir parámetros fijos y arbitrarios, los arbitrarios siempre deben suceder a los fijos."
   ]
  },
  {
   "cell_type": "markdown",
   "metadata": {},
   "source": [
    "# Argumentos variables clave-valor (keyword arguments)\n",
    "\n",
    "También se puede preceder el nombre del último parámetro con  \\*\\*, ** en cuyo caso en lugar de una tupla se utilizaría un diccionario**. Las claves de este diccionario serían los nombres de los parámetros indicados al llamar a la función y los valores del diccionario, los valores asociados a estos parámetros.\n",
    "\n",
    "Se suele utilizar el nombre **kwargs para el parámetro formal**, por Keyword Arguments (argumentos con clave)."
   ]
  },
  {
   "cell_type": "code",
   "execution_count": null,
   "metadata": {
    "collapsed": false
   },
   "outputs": [],
   "source": [
    "def Nombres():\n",
    "    for key in kwargs:\n",
    "        print (key,kwargs[key])\n",
    "\n",
    "Nombres(nombre=\"Michel\",apellido=\"Lopez\")  "
   ]
  },
  {
   "cell_type": "code",
   "execution_count": null,
   "metadata": {
    "collapsed": false
   },
   "outputs": [],
   "source": [
    "def Area(**kwargs):\n",
    "    Base = kwargs.get()\n",
    "    Altura = kwargs.get()\n",
    "    return Base*Altura\n",
    "    \n",
    "print (Area (base=10))\n",
    "print (Area (altura=20))\n",
    "print (Area ())\n",
    "print (Area (base=10,altura=20))"
   ]
  },
  {
   "cell_type": "code",
   "execution_count": null,
   "metadata": {
    "collapsed": false
   },
   "outputs": [],
   "source": [
    "def mi_switch(i):\n",
    "    return { 0 :\"a\",\n",
    "             1 :\"b\",\n",
    "             2 :\"c\",\n",
    "             3 :\"d\"}.get(i,\"error\")\n",
    "\n",
    "print (mi_switch())\n",
    "print (mi_switch())"
   ]
  },
  {
   "cell_type": "markdown",
   "metadata": {},
   "source": [
    "# Todo junto\n"
   ]
  },
  {
   "cell_type": "code",
   "execution_count": null,
   "metadata": {
    "collapsed": false
   },
   "outputs": [],
   "source": [
    "def recorrer_parametros_arbitrarios(parametro_fijo, parametro_fijo2=\"Mundo\",  *arbitrarios, **kwords): \n",
    "    print (parametro_fijo)\n",
    "    print (parametro_fijo2)\n",
    "    for argumento in arbitrarios: \n",
    "        print (argumento) \n",
    " \n",
    "    # Los argumentos arbitrarios tipo clave, se recorren como los diccionarios \n",
    "    for clave in kwords: \n",
    "        print (\"El valor de\", clave, \"es\", kwords[clave])\n",
    "        \n",
    "        \n",
    "recorrer_parametros_arbitrarios()"
   ]
  },
  {
   "cell_type": "code",
   "execution_count": null,
   "metadata": {
    "collapsed": true
   },
   "outputs": [],
   "source": []
  },
  {
   "cell_type": "markdown",
   "metadata": {},
   "source": [
    "# Desempaquetado de parámetros\n",
    "\n",
    "Puede ocurrir además, una situación inversa a la anterior. Es decir, que la función espere una lista fija de parámetros, pero que éstos, en vez de estar disponibles de forma separada, se encuentren contenidos en una lista o tupla. \n",
    "\n",
    "En este caso, el signo asterisco (*) deberá preceder al nombre de la lista o tupla que es pasada como parámetro durante la llamada a la función:"
   ]
  },
  {
   "cell_type": "code",
   "execution_count": null,
   "metadata": {
    "collapsed": false
   },
   "outputs": [],
   "source": [
    "def suma(a,b,c):\n",
    "    \n",
    "    print (a+b+c)\n",
    "\n",
    "a= [1,2,3]    \n",
    "suma()  \n",
    "b= (1,2,3)\n",
    "suma()  \n",
    "d = {\"a\":1,\"b\":2,\"c\":3}\n",
    "suma() "
   ]
  },
  {
   "cell_type": "markdown",
   "metadata": {},
   "source": [
    "# Documentación\n",
    "\n",
    "También podemos encontrarnos con una cadena de texto como primera línea del cuerpo de la función. Estas cadenas se conocen con el nombre de **docstring (cadena de documentación) y sirven, como su nombre indica, a modo de documentación de la función.**"
   ]
  },
  {
   "cell_type": "code",
   "execution_count": null,
   "metadata": {
    "collapsed": false
   },
   "outputs": [],
   "source": [
    "def mi_funcion(param1, param2):\n",
    "    \"\"\"Esta funcion imprime los dos valores pasados\n",
    "       como parametros\"\"\"\n",
    "    print (param1)\n",
    "    print (param2)\n",
    "mi_funcion(\"Hola\",\"Mundo\")    "
   ]
  },
  {
   "cell_type": "code",
   "execution_count": null,
   "metadata": {
    "collapsed": false
   },
   "outputs": [],
   "source": [
    "(mi_funcion)"
   ]
  },
  {
   "cell_type": "markdown",
   "metadata": {},
   "source": [
    "# Función lambda"
   ]
  },
  {
   "cell_type": "code",
   "execution_count": null,
   "metadata": {
    "collapsed": false
   },
   "outputs": [],
   "source": [
    "f =  x: x * 5\n",
    "f(2)"
   ]
  },
  {
   "cell_type": "code",
   "execution_count": null,
   "metadata": {
    "collapsed": false
   },
   "outputs": [],
   "source": [
    "g =  x: x + 5\n",
    "g(3)"
   ]
  },
  {
   "cell_type": "code",
   "execution_count": null,
   "metadata": {
    "collapsed": false
   },
   "outputs": [],
   "source": [
    "f(5)+g(3)"
   ]
  },
  {
   "cell_type": "markdown",
   "metadata": {},
   "source": [
    "# Tarea: Diseña una función que calcule la media de cualquier cantidad de valores.\n",
    "\n"
   ]
  },
  {
   "cell_type": "code",
   "execution_count": null,
   "metadata": {
    "collapsed": true
   },
   "outputs": [],
   "source": [
    "  "
   ]
  },
  {
   "cell_type": "markdown",
   "metadata": {},
   "source": [
    "#  Diseña una función que reciba dos parámetros, uno es una lista de enteros, el otro será un valor que se le pida al usuario y este se buscara en la lista.  \n",
    "\n",
    "# Tu programa imprimirá si el elemento se encuentra o no en la lista. \n"
   ]
  },
  {
   "cell_type": "code",
   "execution_count": null,
   "metadata": {
    "collapsed": false
   },
   "outputs": [],
   "source": []
  },
  {
   "cell_type": "markdown",
   "metadata": {},
   "source": [
    "# Diseña un programa que calcule el número de combinaciones que podemos formar tomando $m$ elementos de un conjunto con $n$ elementos es: \n",
    "\n",
    "$$ C^m_n = \n",
    "\\Bigg(\n",
    "\\begin{array}{c} \n",
    "n \\\\\n",
    "m\n",
    "\\end{array}\n",
    "\\Bigg) = \\frac{n!}{(n-m)!m!} $$\n",
    "\n",
    "\n",
    "- $n$ conjunto con n elementos\n",
    "- $m$ es el numeros de elementos tomados\n",
    "\n",
    "- Si el **orden no importa**, es una **combinación**.\n",
    "- Si el **orden sí importa** es una **permutación**.\n",
    "\n",
    "# Por ejemplo\n",
    "\n",
    "Sean cuatro elementos **{a,b,c,d}**. \n",
    "\n",
    "Los conjuntos, tomados de tres en tres, que se pueden formar con esos cuatro elementos son:\n",
    "\n",
    "\n",
    "{a , b , c} , {a , b , d } , {a , c , d } y {b , c , d }"
   ]
  },
  {
   "cell_type": "code",
   "execution_count": null,
   "metadata": {
    "collapsed": true
   },
   "outputs": [],
   "source": []
  }
 ],
 "metadata": {
  "kernelspec": {
   "display_name": "Python 3",
   "language": "python",
   "name": "python3"
  },
  "language_info": {
   "codemirror_mode": {
    "name": "ipython",
    "version": 3
   },
   "file_extension": ".py",
   "mimetype": "text/x-python",
   "name": "python",
   "nbconvert_exporter": "python",
   "pygments_lexer": "ipython3",
   "version": "3.5.2"
  }
 },
 "nbformat": 4,
 "nbformat_minor": 0
}
